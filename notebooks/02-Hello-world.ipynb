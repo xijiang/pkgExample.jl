{
 "cells": [
  {
   "cell_type": "markdown",
   "metadata": {},
   "source": [
    "# Hello world!"
   ]
  },
  {
   "cell_type": "markdown",
   "metadata": {},
   "source": [
    "In the previous section, we created a package called `pkgExample`. After a `pull` request to `GitHub`, it contains below:\n",
    "\n",
    "- LICENSE\n",
    "- Project.toml\n",
    "- README.md\n",
    "- src # a directory\n",
    "  - `pkgExample.jl`\n",
    "\n",
    "`pkgExample.jl` has the following content:\n",
    "```julia\n",
    "module pkgExample\n",
    "\n",
    "greet() = print(\"Hello World!\")\n",
    "\n",
    "end # module\n",
    "```\n",
    "\n",
    "In this section, we will add some functions to this package."
   ]
  },
  {
   "cell_type": "markdown",
   "metadata": {},
   "source": [
    "## Hello world!\n",
    "### Add the package to your Julia environment\n",
    "```julia\n",
    "]  # to enter pkg environment\n",
    "add \"https://github.com/xijiang/pkgExample.jl\"\n",
    "\n",
    "# then `backspace` to REPL\n",
    "\n",
    "import pkgExample\n",
    "\n",
    "pkgExample.greet()\n",
    "```\n",
    "\n",
    "You will see `Hello World!` printed as the function result.\n",
    "\n",
    "I want to add here is that the package/module name `pkgExample` must be specified to run the `greet` function. If you want to run `greet` without the package name, `export greet` should be inserted into `pkgExample.jl`. This is usually not a good practice though."
   ]
  },
  {
   "cell_type": "markdown",
   "metadata": {},
   "source": [
    "### Add another function\n",
    "\n",
    "We add a one-line `plusone` function into the package. Now `pkgExample.jl` looks like this:\n",
    "\n",
    "```julia\n",
    "module pkgExample\n",
    "\n",
    "export plusone\n",
    "\n",
    "greet() = print(\"Hello World!\")\n",
    "\n",
    "plusone(x::Int) = x + 1\n",
    "\n",
    "end # module\n",
    "```\n",
    "\n",
    "Now in the package directory:\n",
    "```bash\n",
    "git commit -am 'plusone function'\n",
    "git push origin master\n",
    "```\n",
    "\n",
    "As the current environment is simple, it is easier now that you quit current REPL and back in again:\n",
    "```julia\n",
    "]\n",
    "update pkgExample\n",
    "\n",
    "# backspace to REPL\n",
    "using pkgExample\n",
    "\n",
    "plusone(12)\n",
    "```"
   ]
  },
  {
   "cell_type": "markdown",
   "metadata": {},
   "source": [
    "### Add more functions\n",
    "Gradually, more and more functions will be added to the package you are developing. And you might put functions in separate files.\n",
    "\n",
    "Here, we create another function `sumRand`, which is stored in `sumRand.jl`:\n",
    "```julia\n",
    "sumRand(n::Int = 10) = sum(rand(n))\n",
    "```\n",
    "\n",
    "We then append one line:\n",
    "```julia\n",
    "include(\"sumRand.jl\")\n",
    "```\n",
    "\n",
    "at the end of `pkdExample.jl`\n",
    "\n",
    "In the package directory:\n",
    "```bash\n",
    "git add src/sumRand.jl\n",
    "git commit -am 'more functions'\n",
    "git push origin master\n",
    "```\n",
    "\n",
    "We then repeat the `exit REPL` $\\rightarrow$ `re-enter REPL` $\\rightarrow$ `update pkgExample` $\\rightarrow$ `using pkgExample` cycle. I will call this cycle `update`.\n",
    "\n",
    "Since `sumRand` was not exported, we need to run `pkgExample.sumRand()`."
   ]
  },
  {
   "cell_type": "markdown",
   "metadata": {},
   "source": [
    "### Add tests\n",
    "It is a good practice to add some test procedure to ensure your package more correct. In the package directory, run julia:\n",
    "\n",
    "```julia\n",
    "]\n",
    "activate .\n",
    "add Test\n",
    "```\n",
    "This will add dependant `Test` to the project. \n",
    "\n",
    "Create `test/runtests.jl` as below:\n",
    "```julia\n",
    "println(\"Testing pkgExample ...\")\n",
    "\n",
    "using Test, pkgExample\n",
    "@test pkgExample.plusone(17) == 18\n",
    "```\n",
    "\n",
    "`add test/runtests.jl`, then `commit` and `push` the package.\n",
    "\n",
    "Run a separate `julia` REPL:\n",
    "```julia\n",
    "]\n",
    "update pkgExample\n",
    "test pkgExample\n",
    "```\n",
    "\n",
    "The only test should have a pass."
   ]
  }
 ],
 "metadata": {
  "kernelspec": {
   "display_name": "Julia 1.5.0-DEV",
   "language": "julia",
   "name": "julia-1.5"
  },
  "language_info": {
   "file_extension": ".jl",
   "mimetype": "application/julia",
   "name": "julia",
   "version": "1.5.0"
  }
 },
 "nbformat": 4,
 "nbformat_minor": 4
}
