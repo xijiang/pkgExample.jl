{
 "cells": [
  {
   "cell_type": "markdown",
   "metadata": {},
   "source": [
    "# Start a publicly available Julia package"
   ]
  },
  {
   "cell_type": "markdown",
   "metadata": {},
   "source": [
    "## Create a public julia package\n",
    "\n",
    "Here the package is named `pkgExample`.  You can name your package whatever else."
   ]
  },
  {
   "cell_type": "markdown",
   "metadata": {},
   "source": [
    "### Start a Julia project with its REPL\n",
    "\n",
    "```julia\n",
    "]\n",
    "generate pkgExample\n",
    "```\n",
    "\n",
    "A a directory `pkgExample` whill be create at `pwd`.\n",
    "\n",
    "which has\n",
    "- Project.toml\n",
    "- src\n",
    "  - `pkgExample.jl`"
   ]
  },
  {
   "cell_type": "markdown",
   "metadata": {},
   "source": [
    "### Prepare a public package repo\n",
    "\n",
    "Here I use `GitHub` for example.\n",
    "\n",
    "If you are not `GitHub` ready, do the follows:\n",
    "- Create an account on [GitHub](https://github.com).\n",
    "- Setup ssh key pair so that you can use `git` command line.\n",
    "- You may also want to configure you local `git`.\n",
    "\n",
    "Create a package called `pkgExample.jl`. On my `GitHub`, this is at https://github.com/xijiang/pkgExample.jl. I added \n",
    "- some descriptions. These will be in the `README.md` file.\n",
    "- a README.md file\n",
    "- an `MIT` license\n",
    "- a `.gitignore` for julia development"
   ]
  },
  {
   "cell_type": "markdown",
   "metadata": {},
   "source": [
    "### Local configurations\n",
    "```bash\n",
    "cd $(pwd)/pkgExample\n",
    "git init\n",
    "git add Project.toml src/pkgExample.jl\n",
    "git remote add origin git@github.com:xijiang/pkgExample.jl\n",
    "git pull origin master\n",
    "```\n",
    "\n",
    "The last command will merge the remote, named `origin`, which has three files:\n",
    "- .gitignore\n",
    "- LICENSE\n",
    "- README.md\n",
    "\n",
    "with the local, i.e., master.\n",
    "\n",
    "This package is now ready for future development.\n",
    "\n",
    "It is also publicly available. \n",
    "\n",
    "The `MIT` license is very convenient. It states that the package is mine. Anybody else can use it. But all of their own risks. Now:\n",
    "\n",
    "```bash\n",
    "git commit -am 'starting point'\n",
    "git push origin master  # it is now called main\n",
    "```\n",
    "\n",
    "This package is now ready for others to use."
   ]
  },
  {
   "cell_type": "markdown",
   "metadata": {},
   "source": [
    "## Appendix - an example git configuration\n",
    "Change according to your own convenience.\n",
    "\n",
    "```bash\n",
    "sudo yum install git meld\t# if not installed\n",
    "git config --global user.name \"Xijiang Yu\"\n",
    "git config --global user.email xijiang@users.noreply.github.com\n",
    "# git commit --amend --reset-author\n",
    "git config --global core.editor emacs # if you like Emacs more, default vi\n",
    "git config --global merge.tool meld\n",
    "git config --global pack.threads 12\n",
    "git config --global alias.ss 'status -s'\n",
    "git config --global alias.lg \"log --color --graph --pretty=format:'%Cred%h%Creset -%C(yellow)%d%Creset %s %Cgreen(%cr) %C(bold blue)<%an>%Creset' --abbrev-commit --branches\"\n",
    "# git config --global color.ui true  # for CentOS version\n",
    "# for nbdime\n",
    "pip install --user --upgrade nbdime\n",
    "jupyter-serverextension enable --py nbdime --user\n",
    "nbdime config-git --enable --global\n",
    "git config --list  # to see the current configurations\n",
    "```"
   ]
  }
 ],
 "metadata": {
  "kernelspec": {
   "display_name": "Julia 1.5.0-DEV",
   "language": "julia",
   "name": "julia-1.5"
  },
  "language_info": {
   "file_extension": ".jl",
   "mimetype": "application/julia",
   "name": "julia",
   "version": "1.5.0"
  }
 },
 "nbformat": 4,
 "nbformat_minor": 4
}
