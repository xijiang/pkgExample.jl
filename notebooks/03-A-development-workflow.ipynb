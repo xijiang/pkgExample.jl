{
 "cells": [
  {
   "cell_type": "markdown",
   "metadata": {},
   "source": [
    "# A development workflow"
   ]
  },
  {
   "cell_type": "markdown",
   "metadata": {},
   "source": [
    "To reload an REPL frequently is not acceptable. Especially if the REPL needs to load may packages/environments.\n",
    "\n",
    "In the previous sections, we have\n",
    "- created a package that is publicly available.\n",
    "- added it into our own Julia package repo.\n",
    "- added some more functions\n",
    "\n",
    "In this section, a better, if not best, practice of workflow is shown to develop this package."
   ]
  },
  {
   "cell_type": "markdown",
   "metadata": {},
   "source": [
    "## The workflow\n",
    "Add and remove a package is convenient. In the `pkgExample` directory, enter Julia REPL.\n",
    "```julia\n",
    "]  # to enter the Pkg environment\n",
    "remove pkgExample\n",
    "add Revise  # if not added\n",
    "activate .  # this will activate the package development in the current path\n",
    "\n",
    "# backspace to return to the REPL\n",
    "using Revise  # note, this must be loaded before your package developing\n",
    "\n",
    "using pkgExample\n",
    "pkgExample.greet()\n",
    "# Hello World!\n",
    "\n",
    "edit(\"src/pkgExample.jl\") # on my computer, this involks Emacs\n",
    "# change \"Hello World!\" to \"Hello World! again\" in the greet body\n",
    "# save and exit Emacs\n",
    "\n",
    "pkgExample.greet()\n",
    "# Hello World! again\n",
    "```"
   ]
  }
 ],
 "metadata": {
  "kernelspec": {
   "display_name": "Julia 1.5.1",
   "language": "julia",
   "name": "julia-1.5"
  },
  "language_info": {
   "file_extension": ".jl",
   "mimetype": "application/julia",
   "name": "julia",
   "version": "1.5.2"
  }
 },
 "nbformat": 4,
 "nbformat_minor": 4
}
